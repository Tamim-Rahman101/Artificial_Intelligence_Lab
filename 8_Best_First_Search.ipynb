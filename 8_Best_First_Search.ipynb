{
 "cells": [
  {
   "cell_type": "markdown",
   "id": "228ffb9a",
   "metadata": {},
   "source": [
    "# 8. Implementation of Best First Search Algorithm."
   ]
  },
  {
   "cell_type": "code",
   "execution_count": 3,
   "id": "93276834",
   "metadata": {},
   "outputs": [
    {
     "name": "stdout",
     "output_type": "stream",
     "text": [
      "Path found: S -> B -> F -> G\n"
     ]
    }
   ],
   "source": [
    "import heapq\n",
    "\n",
    "def best_first_search(graph, heuristics, start, goal):\n",
    "    open_list = []\n",
    "    closed_list = set()\n",
    "    parent = {start: None}\n",
    "    heapq.heappush(open_list, (heuristics[start], start))\n",
    "\n",
    "    while open_list:\n",
    "        current_heuristic, current_node = heapq.heappop(open_list)\n",
    "\n",
    "        if current_node in closed_list:\n",
    "            continue\n",
    "\n",
    "        closed_list.add(current_node)\n",
    "\n",
    "        if current_node == goal:\n",
    "            return reconstruct_path(parent, start, goal)\n",
    "\n",
    "        for neighbor in graph.get(current_node, []):\n",
    "            if neighbor not in closed_list:\n",
    "                if neighbor not in parent:\n",
    "                    parent[neighbor] = current_node\n",
    "                heapq.heappush(open_list, (heuristics[neighbor], neighbor))\n",
    "\n",
    "    return None  # No path found\n",
    "\n",
    "def reconstruct_path(parent, start, goal):\n",
    "    path = [goal]\n",
    "    while path[-1] != start:\n",
    "        path.append(parent[path[-1]])\n",
    "    path.reverse()\n",
    "    return path\n",
    "\n",
    "if __name__ == \"__main__\":\n",
    "    graph = {\n",
    "        'S': ['A', 'B'],\n",
    "        'A': ['B', 'C', 'D', 'E'],\n",
    "        'B': ['E', 'F'],\n",
    "        'C': [],\n",
    "        'D': [],\n",
    "        'E': ['H'],\n",
    "        'F': ['I', 'G'],\n",
    "        'H': [],\n",
    "        'I': [],\n",
    "        'G': []\n",
    "    }\n",
    "\n",
    "    heuristics = {\n",
    "        'S': 14,\n",
    "        'A': 4,\n",
    "        'B': 5,\n",
    "        'C': 7,\n",
    "        'D': 3,\n",
    "        'E': 8,\n",
    "        'F': 2,\n",
    "        'G': 0,\n",
    "        'H': 4,\n",
    "        'I': 9\n",
    "    }\n",
    "\n",
    "    start = 'S'\n",
    "    goal = 'G'\n",
    "\n",
    "    path = best_first_search(graph, heuristics, start, goal)\n",
    "\n",
    "    if path:\n",
    "        print(\"Path found:\", ' -> '.join(path))\n",
    "    else:\n",
    "        print(\"No path found.\")"
   ]
  }
 ],
 "metadata": {
  "kernelspec": {
   "display_name": "Python 3",
   "language": "python",
   "name": "python3"
  },
  "language_info": {
   "codemirror_mode": {
    "name": "ipython",
    "version": 3
   },
   "file_extension": ".py",
   "mimetype": "text/x-python",
   "name": "python",
   "nbconvert_exporter": "python",
   "pygments_lexer": "ipython3",
   "version": "3.11.8"
  }
 },
 "nbformat": 4,
 "nbformat_minor": 5
}
